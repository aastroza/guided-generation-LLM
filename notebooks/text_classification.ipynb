{
 "cells": [
  {
   "cell_type": "code",
   "execution_count": 274,
   "metadata": {},
   "outputs": [
    {
     "data": {
      "text/plain": [
       "True"
      ]
     },
     "execution_count": 274,
     "metadata": {},
     "output_type": "execute_result"
    }
   ],
   "source": [
    "import sys\n",
    "sys.path.append('..')\n",
    "\n",
    "from dotenv import load_dotenv\n",
    "load_dotenv()"
   ]
  },
  {
   "cell_type": "markdown",
   "metadata": {},
   "source": [
    "# Text Classification"
   ]
  },
  {
   "cell_type": "markdown",
   "metadata": {},
   "source": [
    "## Dataset"
   ]
  },
  {
   "cell_type": "code",
   "execution_count": 275,
   "metadata": {},
   "outputs": [],
   "source": [
    "import json\n",
    "\n",
    "with open(\"../data/raw/sarcasm/samples.jsonl\", \"r\") as f:\n",
    "    data = [json.loads(item) for item in list(f)]\n",
    "\n",
    "with open(\"../data/raw/sarcasm/few_shot.jsonl\", \"r\") as f:\n",
    "    few_shot = [json.loads(item) for item in list(f)]\n",
    "    "
   ]
  },
  {
   "cell_type": "code",
   "execution_count": 276,
   "metadata": {},
   "outputs": [
    {
     "data": {
      "text/plain": [
       "{'input': [{'role': 'system',\n",
       "   'content': \"Respond with only a 1 or 0 to signify if the user's message includes sarcasm, or not\"},\n",
       "  {'role': 'user',\n",
       "   'content': 'thirtysomething scientists unveil doomsday clock of hair loss'}],\n",
       " 'ideal': '1'}"
      ]
     },
     "execution_count": 276,
     "metadata": {},
     "output_type": "execute_result"
    }
   ],
   "source": [
    "data[0]"
   ]
  },
  {
   "cell_type": "code",
   "execution_count": 277,
   "metadata": {},
   "outputs": [
    {
     "data": {
      "text/plain": [
       "{'input': [{'role': 'system',\n",
       "   'content': \"Respond with only a 1 or 0 to signify if the user's message includes sarcasm, or not\"},\n",
       "  {'role': 'user',\n",
       "   'content': 'dem rep. totally nails why congress is falling short on gender, racial equality'}],\n",
       " 'ideal': '0'}"
      ]
     },
     "execution_count": 277,
     "metadata": {},
     "output_type": "execute_result"
    }
   ],
   "source": [
    "data[1]"
   ]
  },
  {
   "cell_type": "code",
   "execution_count": 278,
   "metadata": {},
   "outputs": [],
   "source": [
    "import random\n",
    "seed = 42\n",
    "n_samples = 1000\n",
    "random.seed(seed)\n",
    "sample_list = random.choices(data, k=n_samples)\n"
   ]
  },
  {
   "cell_type": "code",
   "execution_count": 279,
   "metadata": {},
   "outputs": [
    {
     "data": {
      "text/plain": [
       "'Number of sarcasm samples: 457'"
      ]
     },
     "execution_count": 279,
     "metadata": {},
     "output_type": "execute_result"
    }
   ],
   "source": [
    "f\"Number of sarcasm samples: {len([c for c in sample_list if c['ideal'] == '1'])}\""
   ]
  },
  {
   "cell_type": "code",
   "execution_count": 280,
   "metadata": {},
   "outputs": [
    {
     "data": {
      "text/plain": [
       "'Number of not sarcasm samples: 543'"
      ]
     },
     "execution_count": 280,
     "metadata": {},
     "output_type": "execute_result"
    }
   ],
   "source": [
    "f\"Number of not sarcasm samples: {len([c for c in sample_list if c['ideal'] == '0'])}\""
   ]
  },
  {
   "cell_type": "markdown",
   "metadata": {},
   "source": [
    "## Non Guided Generation"
   ]
  },
  {
   "cell_type": "code",
   "execution_count": 281,
   "metadata": {},
   "outputs": [],
   "source": [
    "openai_models = ['gpt-3.5-turbo', 'gpt-4-1106-preview', 'gpt-4']"
   ]
  },
  {
   "cell_type": "code",
   "execution_count": 282,
   "metadata": {},
   "outputs": [],
   "source": [
    "from openai import OpenAI\n",
    "\n",
    "client = OpenAI()\n",
    "\n",
    "def generate_response(sample: dict, model: str):\n",
    "    response = client.chat.completions.create(\n",
    "        model=model,\n",
    "        messages=sample['input'],\n",
    "        temperature=0.0\n",
    "    )\n",
    "    response_message = response.choices[0].message.content\n",
    "    response_cost =  openai_api_calculate_cost(response.usage, model=model)\n",
    "    return {'response': response_message, 'cost': response_cost}\n",
    "\n",
    "def openai_api_calculate_cost(usage, model):\n",
    "    pricing = {\n",
    "        'gpt-3.5-turbo': {\n",
    "            'prompt': 0.001,\n",
    "            'completion': 0.002,\n",
    "        },\n",
    "        'gpt-4-1106-preview': {\n",
    "            'prompt': 0.01,\n",
    "            'completion': 0.03,\n",
    "        },\n",
    "        'gpt-4': {\n",
    "            'prompt': 0.03,\n",
    "            'completion': 0.06,\n",
    "        },\n",
    "    }\n",
    "\n",
    "    try:\n",
    "        model_pricing = pricing[model]\n",
    "    except KeyError:\n",
    "        raise ValueError(\"Invalid model specified\")\n",
    "\n",
    "    prompt_cost = usage.prompt_tokens * model_pricing['prompt'] / 1000\n",
    "    completion_cost = usage.completion_tokens * model_pricing['completion'] / 1000\n",
    "\n",
    "    total_cost = prompt_cost + completion_cost\n",
    "\n",
    "\n",
    "    return total_cost\n"
   ]
  },
  {
   "cell_type": "code",
   "execution_count": 283,
   "metadata": {},
   "outputs": [
    {
     "data": {
      "text/plain": [
       "{'response': '0', 'cost': 4.8e-05}"
      ]
     },
     "execution_count": 283,
     "metadata": {},
     "output_type": "execute_result"
    }
   ],
   "source": [
    "generate_response(sample = data[0], model=\"gpt-3.5-turbo\")"
   ]
  },
  {
   "cell_type": "code",
   "execution_count": 284,
   "metadata": {},
   "outputs": [
    {
     "data": {
      "text/plain": [
       "{'response': '1', 'cost': 0.00049}"
      ]
     },
     "execution_count": 284,
     "metadata": {},
     "output_type": "execute_result"
    }
   ],
   "source": [
    "generate_response(sample = data[0], model=\"gpt-4-1106-preview\")"
   ]
  },
  {
   "cell_type": "code",
   "execution_count": 285,
   "metadata": {},
   "outputs": [],
   "source": [
    "for model in openai_models:\n",
    "    for sample in sample_list:\n",
    "        sample[model] = generate_response(sample, model)"
   ]
  },
  {
   "cell_type": "code",
   "execution_count": 286,
   "metadata": {},
   "outputs": [
    {
     "name": "stdout",
     "output_type": "stream",
     "text": [
      "Accuracy for gpt-3.5-turbo: 0.546\n",
      "Cost for gpt-3.5-turbo: 0.047959000000000106\n",
      "Accuracy for gpt-4-1106-preview: 0.761\n",
      "Cost for gpt-4-1106-preview: 0.4895900000000002\n",
      "Accuracy for gpt-4: 0.74\n",
      "Cost for gpt-4: 1.4387700000000005\n"
     ]
    }
   ],
   "source": [
    "for model in openai_models:\n",
    "    print(f\"Accuracy for {model}: {sum([item[model]['response'] == item['ideal'] for item in sample_list]) / len(sample_list)}\")\n",
    "    print(f\"Cost for {model}: {sum([item[model]['cost'] for item in sample_list])}\")"
   ]
  },
  {
   "cell_type": "markdown",
   "metadata": {},
   "source": [
    "## Instructor"
   ]
  },
  {
   "cell_type": "code",
   "execution_count": 287,
   "metadata": {},
   "outputs": [],
   "source": [
    "import enum\n",
    "from pydantic import BaseModel\n",
    "\n",
    "class Labels(str, enum.Enum):\n",
    "    \"\"\"Enumeration for single-label text classification.\"\"\"\n",
    "    SARCASM = \"sarcasm\"\n",
    "    NOT_SARCASM = \"not_sarcasm\"\n",
    "\n",
    "class SinglePrediction(BaseModel):\n",
    "    \"\"\"\n",
    "    Class for a single class label prediction.\n",
    "    \"\"\"\n",
    "    class_label: Labels"
   ]
  },
  {
   "cell_type": "code",
   "execution_count": 288,
   "metadata": {},
   "outputs": [],
   "source": [
    "from openai import OpenAI\n",
    "import instructor\n",
    "\n",
    "client = instructor.patch(OpenAI())\n",
    "\n",
    "def classify(sentence: str, model: str):\n",
    "    \"\"\"Perform single-label classification on the input text.\"\"\"\n",
    "    response = client.chat.completions.create(\n",
    "        model=model,\n",
    "        response_model=SinglePrediction,\n",
    "        temperature=0.0,\n",
    "        messages=[\n",
    "            {\n",
    "                \"role\": \"user\",\n",
    "                \"content\": f\"Classify the following text: {sentence}\",\n",
    "            },\n",
    "        ],\n",
    "    )\n",
    "\n",
    "    response_message = '1' if response.class_label == Labels.SARCASM else '0'\n",
    "    response_cost =  openai_api_calculate_cost(response._raw_response.usage, model=model)\n",
    "    return {'response': response_message, 'cost': response_cost}"
   ]
  },
  {
   "cell_type": "code",
   "execution_count": 289,
   "metadata": {},
   "outputs": [
    {
     "data": {
      "text/plain": [
       "{'response': '1', 'cost': 0.000115}"
      ]
     },
     "execution_count": 289,
     "metadata": {},
     "output_type": "execute_result"
    }
   ],
   "source": [
    "classify(data[0]['input'][1]['content'], 'gpt-3.5-turbo')"
   ]
  },
  {
   "cell_type": "code",
   "execution_count": 290,
   "metadata": {},
   "outputs": [],
   "source": [
    "for model in openai_models:\n",
    "    for sample in sample_list:\n",
    "        sentence = sample['input'][1]['content']\n",
    "        sample[f'instructor_{model}'] = classify(sentence, model)"
   ]
  },
  {
   "cell_type": "code",
   "execution_count": 291,
   "metadata": {},
   "outputs": [
    {
     "name": "stdout",
     "output_type": "stream",
     "text": [
      "Accuracy for instructor_gpt-3.5-turbo: 0.641\n",
      "Cost for instructor_gpt-3.5-turbo: 0.11581599999999999\n",
      "Accuracy for instructor_gpt-4-1106-preview: 0.741\n",
      "Cost for instructor_gpt-4-1106-preview: 1.2299999999999995\n",
      "Accuracy for instructor_gpt-4: 0.819\n",
      "Cost for instructor_gpt-4: 3.4754400000000034\n"
     ]
    }
   ],
   "source": [
    "for model in [f'instructor_{model}' for model in openai_models]:\n",
    "    print(f\"Accuracy for {model}: {sum([item[model]['response'] == item['ideal'] for item in sample_list]) / len(sample_list)}\")\n",
    "    print(f\"Cost for {model}: {sum([item[model]['cost'] for item in sample_list])}\")"
   ]
  },
  {
   "cell_type": "markdown",
   "metadata": {},
   "source": [
    "## Instructor (Replication)"
   ]
  },
  {
   "cell_type": "code",
   "execution_count": 292,
   "metadata": {},
   "outputs": [],
   "source": [
    "import enum\n",
    "from pydantic import BaseModel\n",
    "\n",
    "class Labels(str, enum.Enum):\n",
    "    \"\"\"Enumeration for single-label text classification.\"\"\"\n",
    "    SARCASM = \"1\"\n",
    "    NOT_SARCASM = \"0\"\n",
    "\n",
    "class SinglePrediction(BaseModel):\n",
    "    \"\"\"\n",
    "    Class for a single class label prediction.\n",
    "    \"\"\"\n",
    "    class_label: Labels"
   ]
  },
  {
   "cell_type": "code",
   "execution_count": 293,
   "metadata": {},
   "outputs": [],
   "source": [
    "from openai import OpenAI\n",
    "import instructor\n",
    "\n",
    "client = instructor.patch(OpenAI())\n",
    "\n",
    "def generate_classification(sample: dict, model: str):\n",
    "    \"\"\"Perform single-label classification on the input text.\"\"\"\n",
    "    response = client.chat.completions.create(\n",
    "        model=model,\n",
    "        response_model=SinglePrediction,\n",
    "        temperature=0.0,\n",
    "        messages=sample['input'],\n",
    "    )\n",
    "\n",
    "    response_message = '1' if response.class_label == Labels.SARCASM else '0'\n",
    "    response_cost =  openai_api_calculate_cost(response._raw_response.usage, model=model)\n",
    "    return {'response': response_message, 'cost': response_cost}"
   ]
  },
  {
   "cell_type": "code",
   "execution_count": 294,
   "metadata": {},
   "outputs": [
    {
     "data": {
      "text/plain": [
       "{'response': '1', 'cost': 0.000123}"
      ]
     },
     "execution_count": 294,
     "metadata": {},
     "output_type": "execute_result"
    }
   ],
   "source": [
    "generate_classification(data[0], 'gpt-3.5-turbo')"
   ]
  },
  {
   "cell_type": "code",
   "execution_count": 295,
   "metadata": {},
   "outputs": [],
   "source": [
    "for model in openai_models:\n",
    "    for sample in sample_list:\n",
    "        sample[f'instructor_base_{model}'] = generate_classification(sample, model)"
   ]
  },
  {
   "cell_type": "code",
   "execution_count": 296,
   "metadata": {},
   "outputs": [
    {
     "name": "stdout",
     "output_type": "stream",
     "text": [
      "Accuracy for instructor_base_gpt-3.5-turbo: 0.661\n",
      "Cost for instructor_base_gpt-3.5-turbo: 0.12295899999999953\n",
      "Accuracy for instructor_base_gpt-4-1106-preview: 0.767\n",
      "Cost for instructor_base_gpt-4-1106-preview: 1.2795899999999982\n",
      "Accuracy for instructor_base_gpt-4: 0.79\n",
      "Cost for instructor_base_gpt-4: 3.628050000000001\n"
     ]
    }
   ],
   "source": [
    "for model in [f'instructor_base_{model}' for model in openai_models]:\n",
    "    print(f\"Accuracy for {model}: {sum([item[model]['response'] == item['ideal'] for item in sample_list]) / len(sample_list)}\")\n",
    "    print(f\"Cost for {model}: {sum([item[model]['cost'] for item in sample_list])}\")"
   ]
  },
  {
   "cell_type": "markdown",
   "metadata": {},
   "source": [
    "## Instructor (Mixing)"
   ]
  },
  {
   "cell_type": "code",
   "execution_count": 297,
   "metadata": {},
   "outputs": [],
   "source": [
    "import enum\n",
    "from pydantic import BaseModel\n",
    "\n",
    "class NewLabels(str, enum.Enum):\n",
    "    \"\"\"Enumeration for single-label text classification.\"\"\"\n",
    "    CLEARLY_SARCASM = \"clearly_sarcasm\"\n",
    "    CLEARLY_NOT_SARCASM = \"clearly_not_sarcasm\"\n",
    "    MAYBE_SARCASM = \"maybe_sarcasm\"\n",
    "    MAYBE_NOT_SARCASM = \"maybe_not_sarcasm\"\n",
    "\n",
    "class NewSinglePrediction(BaseModel):\n",
    "    \"\"\"\n",
    "    Class for a single class label prediction.\n",
    "    \"\"\"\n",
    "    class_label: NewLabels\n",
    "\n",
    "class Labels(str, enum.Enum):\n",
    "    \"\"\"Enumeration for single-label text classification.\"\"\"\n",
    "    SARCASM = \"sarcasm\"\n",
    "    NOT_SARCASM = \"not_sarcasm\"\n",
    "\n",
    "class SinglePrediction(BaseModel):\n",
    "    \"\"\"\n",
    "    Class for a single class label prediction.\n",
    "    \"\"\"\n",
    "    class_label: Labels"
   ]
  },
  {
   "cell_type": "code",
   "execution_count": 298,
   "metadata": {},
   "outputs": [],
   "source": [
    "from openai import OpenAI\n",
    "import instructor\n",
    "\n",
    "client = instructor.patch(OpenAI())\n",
    "\n",
    "def classify_mix(sentence: str):\n",
    "    \"\"\"Perform single-label classification on the input text.\"\"\"\n",
    "    response = client.chat.completions.create(\n",
    "        model=\"gpt-3.5-turbo\",\n",
    "        response_model=NewSinglePrediction,\n",
    "        temperature=0.0,\n",
    "        messages=[\n",
    "            {\n",
    "                \"role\": \"user\",\n",
    "                \"content\": f\"Classify the following text: {sentence}\",\n",
    "            },\n",
    "        ],\n",
    "    )\n",
    "\n",
    "    response_cost =  openai_api_calculate_cost(response._raw_response.usage, model=\"gpt-3.5-turbo\")\n",
    "\n",
    "    if response.class_label in [NewLabels.CLEARLY_SARCASM, NewLabels.CLEARLY_NOT_SARCASM]:\n",
    "        response_message = '1' if response.class_label == NewLabels.CLEARLY_SARCASM else '0'\n",
    "        return {'response': response_message, 'cost': response_cost}\n",
    "    \n",
    "    else:\n",
    "        second_response = client.chat.completions.create(\n",
    "        model=\"gpt-4-1106-preview\",\n",
    "        response_model=SinglePrediction,\n",
    "        temperature=0.0,\n",
    "        messages=[\n",
    "            {\n",
    "                \"role\": \"user\",\n",
    "                \"content\": f\"Classify the following text: {sentence}\",\n",
    "            },\n",
    "        ],\n",
    "        )\n",
    "\n",
    "        response_message = '1' if second_response.class_label == Labels.SARCASM else '0'\n",
    "        response_cost +=  openai_api_calculate_cost(second_response._raw_response.usage, model=\"gpt-4-1106-preview\")\n",
    "\n",
    "        return {'response': response_message, 'cost': response_cost} "
   ]
  },
  {
   "cell_type": "code",
   "execution_count": 299,
   "metadata": {},
   "outputs": [
    {
     "data": {
      "text/plain": [
       "{'response': '1', 'cost': 0.0013579999999999998}"
      ]
     },
     "execution_count": 299,
     "metadata": {},
     "output_type": "execute_result"
    }
   ],
   "source": [
    "classify_mix(data[0]['input'][1]['content'])"
   ]
  },
  {
   "cell_type": "code",
   "execution_count": 300,
   "metadata": {},
   "outputs": [],
   "source": [
    "for sample in sample_list:\n",
    "    sentence = sample['input'][1]['content']\n",
    "    sample[f'instructor_mixing'] = classify_mix(sentence)"
   ]
  },
  {
   "cell_type": "code",
   "execution_count": 301,
   "metadata": {},
   "outputs": [
    {
     "name": "stdout",
     "output_type": "stream",
     "text": [
      "Accuracy for instructor_mixing: 0.714\n",
      "Cost for instructor_mixing: 1.129674\n"
     ]
    }
   ],
   "source": [
    "model = 'instructor_mixing'\n",
    "print(f\"Accuracy for {model}: {sum([item[model]['response'] == item['ideal'] for item in sample_list]) / len(sample_list)}\")\n",
    "print(f\"Cost for {model}: {sum([item[model]['cost'] for item in sample_list])}\")"
   ]
  },
  {
   "cell_type": "markdown",
   "metadata": {},
   "source": [
    "## Results"
   ]
  },
  {
   "cell_type": "code",
   "execution_count": 314,
   "metadata": {},
   "outputs": [],
   "source": [
    "import pandas as pd\n",
    "\n",
    "model_labels = ['gpt-3.5-turbo', 'gpt-4-1106-preview', 'gpt-4',\n",
    "                'instructor_gpt-3.5-turbo', 'instructor_gpt-4-1106-preview', 'instructor_gpt-4',\n",
    "                'instructor_base_gpt-3.5-turbo', 'instructor_base_gpt-4-1106-preview', 'instructor_base_gpt-4',\n",
    "                'instructor_mixing']\n",
    "\n",
    "guide_labels = ['unguided', 'unguided', 'unguided',\n",
    "                'guided', 'guided', 'guided',\n",
    "                'guided', 'guided', 'guided',\n",
    "                'guided']\n",
    "\n",
    "llm_labels = ['gpt-3.5', 'gpt-4', 'gpt-4',\n",
    "              'gpt-3.5', 'gpt-4', 'gpt-4',\n",
    "              'gpt-3.5', 'gpt-4', 'gpt-4',\n",
    "              'mix']\n",
    "\n",
    "accuracy = []\n",
    "cost = []\n",
    "for model in model_labels:\n",
    "    accuracy.append(sum([item[model]['response'] == item['ideal'] for item in sample_list]) / len(sample_list))\n",
    "    cost.append(sum([item[model]['cost'] for item in sample_list]))\n",
    "\n",
    "df = pd.DataFrame({'model': model_labels, 'accuracy': accuracy, 'cost': cost, 'guide': guide_labels, 'llm': llm_labels})\n"
   ]
  },
  {
   "cell_type": "code",
   "execution_count": 315,
   "metadata": {},
   "outputs": [
    {
     "data": {
      "text/html": [
       "<div>\n",
       "<style scoped>\n",
       "    .dataframe tbody tr th:only-of-type {\n",
       "        vertical-align: middle;\n",
       "    }\n",
       "\n",
       "    .dataframe tbody tr th {\n",
       "        vertical-align: top;\n",
       "    }\n",
       "\n",
       "    .dataframe thead th {\n",
       "        text-align: right;\n",
       "    }\n",
       "</style>\n",
       "<table border=\"1\" class=\"dataframe\">\n",
       "  <thead>\n",
       "    <tr style=\"text-align: right;\">\n",
       "      <th></th>\n",
       "      <th>model</th>\n",
       "      <th>accuracy</th>\n",
       "      <th>cost</th>\n",
       "      <th>guide</th>\n",
       "      <th>llm</th>\n",
       "    </tr>\n",
       "  </thead>\n",
       "  <tbody>\n",
       "    <tr>\n",
       "      <th>0</th>\n",
       "      <td>gpt-3.5-turbo</td>\n",
       "      <td>0.546</td>\n",
       "      <td>0.047959</td>\n",
       "      <td>unguided</td>\n",
       "      <td>gpt-3.5</td>\n",
       "    </tr>\n",
       "    <tr>\n",
       "      <th>1</th>\n",
       "      <td>gpt-4-1106-preview</td>\n",
       "      <td>0.761</td>\n",
       "      <td>0.489590</td>\n",
       "      <td>unguided</td>\n",
       "      <td>gpt-4</td>\n",
       "    </tr>\n",
       "    <tr>\n",
       "      <th>2</th>\n",
       "      <td>gpt-4</td>\n",
       "      <td>0.740</td>\n",
       "      <td>1.438770</td>\n",
       "      <td>unguided</td>\n",
       "      <td>gpt-4</td>\n",
       "    </tr>\n",
       "    <tr>\n",
       "      <th>3</th>\n",
       "      <td>instructor_gpt-3.5-turbo</td>\n",
       "      <td>0.641</td>\n",
       "      <td>0.115816</td>\n",
       "      <td>guided</td>\n",
       "      <td>gpt-3.5</td>\n",
       "    </tr>\n",
       "    <tr>\n",
       "      <th>4</th>\n",
       "      <td>instructor_gpt-4-1106-preview</td>\n",
       "      <td>0.741</td>\n",
       "      <td>1.230000</td>\n",
       "      <td>guided</td>\n",
       "      <td>gpt-4</td>\n",
       "    </tr>\n",
       "    <tr>\n",
       "      <th>5</th>\n",
       "      <td>instructor_gpt-4</td>\n",
       "      <td>0.819</td>\n",
       "      <td>3.475440</td>\n",
       "      <td>guided</td>\n",
       "      <td>gpt-4</td>\n",
       "    </tr>\n",
       "    <tr>\n",
       "      <th>6</th>\n",
       "      <td>instructor_base_gpt-3.5-turbo</td>\n",
       "      <td>0.661</td>\n",
       "      <td>0.122959</td>\n",
       "      <td>guided</td>\n",
       "      <td>gpt-3.5</td>\n",
       "    </tr>\n",
       "    <tr>\n",
       "      <th>7</th>\n",
       "      <td>instructor_base_gpt-4-1106-preview</td>\n",
       "      <td>0.767</td>\n",
       "      <td>1.279590</td>\n",
       "      <td>guided</td>\n",
       "      <td>gpt-4</td>\n",
       "    </tr>\n",
       "    <tr>\n",
       "      <th>8</th>\n",
       "      <td>instructor_base_gpt-4</td>\n",
       "      <td>0.790</td>\n",
       "      <td>3.628050</td>\n",
       "      <td>guided</td>\n",
       "      <td>gpt-4</td>\n",
       "    </tr>\n",
       "    <tr>\n",
       "      <th>9</th>\n",
       "      <td>instructor_mixing</td>\n",
       "      <td>0.714</td>\n",
       "      <td>1.129674</td>\n",
       "      <td>guided</td>\n",
       "      <td>mix</td>\n",
       "    </tr>\n",
       "  </tbody>\n",
       "</table>\n",
       "</div>"
      ],
      "text/plain": [
       "                                model  accuracy      cost     guide      llm\n",
       "0                       gpt-3.5-turbo     0.546  0.047959  unguided  gpt-3.5\n",
       "1                  gpt-4-1106-preview     0.761  0.489590  unguided    gpt-4\n",
       "2                               gpt-4     0.740  1.438770  unguided    gpt-4\n",
       "3            instructor_gpt-3.5-turbo     0.641  0.115816    guided  gpt-3.5\n",
       "4       instructor_gpt-4-1106-preview     0.741  1.230000    guided    gpt-4\n",
       "5                    instructor_gpt-4     0.819  3.475440    guided    gpt-4\n",
       "6       instructor_base_gpt-3.5-turbo     0.661  0.122959    guided  gpt-3.5\n",
       "7  instructor_base_gpt-4-1106-preview     0.767  1.279590    guided    gpt-4\n",
       "8               instructor_base_gpt-4     0.790  3.628050    guided    gpt-4\n",
       "9                   instructor_mixing     0.714  1.129674    guided      mix"
      ]
     },
     "execution_count": 315,
     "metadata": {},
     "output_type": "execute_result"
    }
   ],
   "source": [
    "df"
   ]
  },
  {
   "cell_type": "code",
   "execution_count": 321,
   "metadata": {},
   "outputs": [
    {
     "data": {
      "image/png": "[encoded data removed]",
      "text/plain": [
       "<Figure size 640x480 with 1 Axes>"
      ]
     },
     "metadata": {},
     "output_type": "display_data"
    }
   ],
   "source": [
    "#plot accuracy vs cost\n",
    "import matplotlib.pyplot as plt\n",
    "import numpy as np\n",
    "\n",
    "\n",
    "fig, ax = plt.subplots()\n",
    "ax.scatter(df[(df['llm'] == 'gpt-4')&(df['guide'] == 'unguided')]['cost'],\n",
    "           df[(df['llm'] == 'gpt-4')&(df['guide'] == 'unguided')]['accuracy'], \n",
    "           marker='^', c='red', label='gpt-4 [unguided]')\n",
    "ax.scatter(df[(df['llm'] == 'gpt-4')&(df['guide'] == 'guided')]['cost'],\n",
    "           df[(df['llm'] == 'gpt-4')&(df['guide'] == 'guided')]['accuracy'], \n",
    "           marker='^', c='blue', label='gpt-4 [guided]')\n",
    "ax.scatter(df[(df['llm'] == 'gpt-3.5')&(df['guide'] == 'unguided')]['cost'],\n",
    "           df[(df['llm'] == 'gpt-3.5')&(df['guide'] == 'unguided')]['accuracy'], \n",
    "           marker='o', c='red', label='gpt-3.5 [unguided]')\n",
    "ax.scatter(df[(df['llm'] == 'gpt-3.5')&(df['guide'] == 'guided')]['cost'],\n",
    "           df[(df['llm'] == 'gpt-3.5')&(df['guide'] == 'guided')]['accuracy'], \n",
    "           marker='o', c='blue', label='gpt-3.5 [guided]')\n",
    "ax.scatter(df[df['llm'] == 'mix']['cost'],\n",
    "           df[df['llm'] == 'mix']['accuracy'], \n",
    "           marker='*', c='blue', label='mix [guided]')\n",
    "\n",
    "plt.legend()\n",
    "\n",
    "plt.xlabel('Cost')\n",
    "plt.ylabel('Accuracy')\n",
    "plt.title('Accuracy vs Cost')\n",
    "plt.show()"
   ]
  },
  {
   "cell_type": "code",
   "execution_count": 322,
   "metadata": {},
   "outputs": [],
   "source": [
    "fig.savefig('../reports/figures/sarcasm_accuracy_vs_cost.png', dpi=300, bbox_inches='tight')"
   ]
  },
  {
   "cell_type": "code",
   "execution_count": 304,
   "metadata": {},
   "outputs": [],
   "source": [
    "# sample_list to file\n",
    "with open(f\"../data/processed/sarcasm/openai_responses_s_{seed}_n_{n_samples}.jsonl\", \"w\") as f:\n",
    "    for item in sample_list:\n",
    "        f.write(json.dumps(item) + \"\\n\")"
   ]
  },
  {
   "cell_type": "code",
   "execution_count": 305,
   "metadata": {},
   "outputs": [
    {
     "data": {
      "text/plain": [
       "'Total Cost: 12.957848000000004'"
      ]
     },
     "execution_count": 305,
     "metadata": {},
     "output_type": "execute_result"
    }
   ],
   "source": [
    "f'Total Cost: {sum(cost)}'"
   ]
  }
 ],
 "metadata": {
  "kernelspec": {
   "display_name": "guided-generation-LLM",
   "language": "python",
   "name": "python3"
  },
  "language_info": {
   "codemirror_mode": {
    "name": "ipython",
    "version": 3
   },
   "file_extension": ".py",
   "mimetype": "text/x-python",
   "name": "python",
   "nbconvert_exporter": "python",
   "pygments_lexer": "ipython3",
   "version": "3.11.6"
  }
 },
 "nbformat": 4,
 "nbformat_minor": 2
}
